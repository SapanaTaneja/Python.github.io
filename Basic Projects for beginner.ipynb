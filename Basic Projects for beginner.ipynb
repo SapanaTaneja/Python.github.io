{
 "cells": [
  {
   "cell_type": "markdown",
   "id": "da9bada0",
   "metadata": {},
   "source": [
    "# Project of If condition\n",
    "            "
   ]
  },
  {
   "cell_type": "markdown",
   "id": "807f0e25",
   "metadata": {},
   "source": [
    "##  Take the input from the user and check if the age in teens, adult, mid, old \n",
    "### minor<13<18<40<60<old"
   ]
  },
  {
   "cell_type": "code",
   "execution_count": 14,
   "id": "650c242d",
   "metadata": {},
   "outputs": [
    {
     "name": "stdout",
     "output_type": "stream",
     "text": [
      "Enter your age :  34\n",
      "You are ADULT and your age is  34\n"
     ]
    }
   ],
   "source": [
    "Age= int(input(\"Enter your age :  \"))\n",
    "\n",
    "if Age<13:\n",
    "    print(\"Your are MINOR\")\n",
    "elif  Age<18:\n",
    "    print(\"You are TEEN and your age is \", Age)\n",
    "elif  Age<40:\n",
    "    print(\"You are ADULT and your age is \", Age)\n",
    "elif  Age<60:\n",
    "    print(\"You are MID-Age and your age is \", Age)\n",
    "else:\n",
    "    print(\"You are OLD\")\n"
   ]
  },
  {
   "cell_type": "markdown",
   "id": "fba8ff8e",
   "metadata": {},
   "source": [
    "# Take input from the user and ask if he wants to quit if yes just print all the input"
   ]
  },
  {
   "cell_type": "code",
   "execution_count": 39,
   "id": "00052a2e",
   "metadata": {},
   "outputs": [
    {
     "name": "stdout",
     "output_type": "stream",
     "text": [
      "Enter your value : 5\n",
      "You want to continue : y\n",
      "Enter your value : 7\n",
      "You want to continue : y\n",
      "Enter your value : 8\n",
      "You want to continue : y\n",
      "Enter your value : y\n",
      "You want to continue : y\n",
      "Enter your value : 5\n",
      "You want to continue : y\n",
      "Enter your value : 7\n",
      "You want to continue : y\n",
      "Enter your value : 8\n",
      "You want to continue : n\n",
      "['5', '7', '8', 'y', '5', '7', '8']\n"
     ]
    }
   ],
   "source": [
    "List=[]\n",
    "\n",
    "while True:\n",
    "    value=input(\"Enter your value : \")\n",
    "    List.append(value)\n",
    "    choice=input(\"You want to continue : \")\n",
    "    if choice=='n':\n",
    "        break\n",
    "\n",
    "print(List)"
   ]
  },
  {
   "cell_type": "markdown",
   "id": "7487989a",
   "metadata": {},
   "source": [
    "# Check the value is even and odd"
   ]
  },
  {
   "cell_type": "code",
   "execution_count": 77,
   "id": "5fd1a543",
   "metadata": {},
   "outputs": [],
   "source": [
    "def even_odd():\n",
    "    while True:\n",
    "        a=int(input(\"Enter the number\"))\n",
    "        if a%2==0:\n",
    "            print(\"Even\")\n",
    "        else:\n",
    "            print(\"ODD\")\n",
    "        choice=input(\"You want to continue : \")\n",
    "        if choice=='n':\n",
    "            break\n",
    "     "
   ]
  },
  {
   "cell_type": "code",
   "execution_count": 78,
   "id": "7b2b1b2b",
   "metadata": {},
   "outputs": [
    {
     "name": "stdout",
     "output_type": "stream",
     "text": [
      "Enter the number7\n",
      "ODD\n",
      "You want to continue : y\n",
      "Enter the number8\n",
      "Even\n",
      "You want to continue : y\n",
      "Enter the number34\n",
      "Even\n",
      "You want to continue : n\n"
     ]
    }
   ],
   "source": [
    "even_odd()"
   ]
  },
  {
   "cell_type": "markdown",
   "id": "e977dfd2",
   "metadata": {},
   "source": [
    "# Make a calculater by using if conditions"
   ]
  },
  {
   "cell_type": "code",
   "execution_count": 104,
   "id": "68ad95e9",
   "metadata": {},
   "outputs": [],
   "source": [
    "def calculator():\n",
    "    while True:\n",
    "        a=int(input(\"Enter first number :\"))\n",
    "        b=int(input(\"Enter first number :\"))\n",
    "        d={1:'ADD',2:'SUB',3:'Div',4:'Mul'}\n",
    "        print(d)\n",
    "        c=int(input(\"Enter the funtion to perform : \"))\n",
    "        if c==1:\n",
    "             print(\"Result of addition is :\", a+b)\n",
    "        elif c==2:\n",
    "             print(\"Result of subtraction is :\",a-b)\n",
    "        elif c==3:\n",
    "             print(\"Result of division is :\",a/b)\n",
    "        elif c==4:\n",
    "             print(\"Result of multiplication is :\",a*b)\n",
    "        else:\n",
    "            print(\"wrong choice!!\")\n",
    "        choice=input(\"You want to continue : \")\n",
    "        if choice=='n':\n",
    "            break\n",
    "    \n",
    "    "
   ]
  },
  {
   "cell_type": "code",
   "execution_count": 106,
   "id": "65e4b3e4",
   "metadata": {},
   "outputs": [
    {
     "name": "stdout",
     "output_type": "stream",
     "text": [
      "Enter first number :3\n",
      "Enter first number :5\n",
      "{1: 'ADD', 2: 'SUB', 3: 'Div', 4: 'Mul'}\n",
      "Enter the funtion to perform : 4\n",
      "Result of multiplication is : 15\n",
      "You want to continue : y\n",
      "Enter first number :6\n",
      "Enter first number :8\n",
      "{1: 'ADD', 2: 'SUB', 3: 'Div', 4: 'Mul'}\n",
      "Enter the funtion to perform : 2\n",
      "Result of subtraction is : -2\n",
      "You want to continue : n\n"
     ]
    }
   ],
   "source": [
    "calculator()"
   ]
  },
  {
   "cell_type": "markdown",
   "id": "09b416d5",
   "metadata": {},
   "source": [
    "# Make a calculater by using classes and functions"
   ]
  },
  {
   "cell_type": "code",
   "execution_count": 133,
   "id": "94a2c558",
   "metadata": {},
   "outputs": [],
   "source": [
    "class cal():\n",
    "    def summ(self, a,b):\n",
    "        return a+b\n",
    "    def sub(self, a,b):\n",
    "        return a-b\n",
    "    def div(self, a,b):\n",
    "        return a/b\n",
    "    def mul(self, a,b):\n",
    "        return a*b"
   ]
  },
  {
   "cell_type": "code",
   "execution_count": 140,
   "id": "80bb1c8c",
   "metadata": {},
   "outputs": [
    {
     "name": "stdout",
     "output_type": "stream",
     "text": [
      "\n",
      "\n",
      "choice your opration :\n",
      "{1: 'ADD', 2: 'SUB', 3: 'Div', 4: 'Mul', 5: 'Quit'}1\n",
      "Enter first number :23\n",
      "Enter first number :45\n",
      "\n",
      "Final Result is : 68\n",
      "\n",
      "\n",
      "choice your opration :\n",
      "{1: 'ADD', 2: 'SUB', 3: 'Div', 4: 'Mul', 5: 'Quit'}4\n",
      "Enter first number :34\n",
      "Enter first number :56\n",
      "\n",
      "Final Result is : 1904\n",
      "\n",
      "\n",
      "choice your opration :\n",
      "{1: 'ADD', 2: 'SUB', 3: 'Div', 4: 'Mul', 5: 'Quit'}5\n",
      "Thanks for using this calculator\n"
     ]
    }
   ],
   "source": [
    "while True:\n",
    "        print(\"\\n\\nchoice your opration :\")\n",
    "        d={1:'ADD',2:'SUB',3:'Div',4:'Mul',5:\"Quit\"}\n",
    "        c=int(input(d))\n",
    "        if c==5:\n",
    "            print(\"Thanks for using this calculator\")\n",
    "            break\n",
    "        a=int(input(\"Enter first number :\"))\n",
    "        b=int(input(\"Enter first number :\"))\n",
    "                    \n",
    "        obj=cal()\n",
    "        if c==1:\n",
    "            result=obj.summ(a,b)\n",
    "        elif c==2:\n",
    "            result= obj.sub(a,b)\n",
    "        elif c==3:\n",
    "             result=obj.div(a,b)\n",
    "        elif c==4:\n",
    "             result=obj.mul(a,b)\n",
    "        else:\n",
    "            print(\"wrong choice!!\")\n",
    "        \n",
    "        print(\"\\nFinal Result is :\", result )\n",
    "    "
   ]
  },
  {
   "cell_type": "code",
   "execution_count": null,
   "id": "2b593b57",
   "metadata": {},
   "outputs": [],
   "source": [
    "    "
   ]
  },
  {
   "cell_type": "code",
   "execution_count": null,
   "id": "7496651d",
   "metadata": {},
   "outputs": [],
   "source": []
  },
  {
   "cell_type": "code",
   "execution_count": null,
   "id": "28a87441",
   "metadata": {},
   "outputs": [],
   "source": []
  },
  {
   "cell_type": "markdown",
   "id": "99b3e8f7",
   "metadata": {},
   "source": []
  }
 ],
 "metadata": {
  "kernelspec": {
   "display_name": "Python 3 (ipykernel)",
   "language": "python",
   "name": "python3"
  },
  "language_info": {
   "codemirror_mode": {
    "name": "ipython",
    "version": 3
   },
   "file_extension": ".py",
   "mimetype": "text/x-python",
   "name": "python",
   "nbconvert_exporter": "python",
   "pygments_lexer": "ipython3",
   "version": "3.10.9"
  }
 },
 "nbformat": 4,
 "nbformat_minor": 5
}
